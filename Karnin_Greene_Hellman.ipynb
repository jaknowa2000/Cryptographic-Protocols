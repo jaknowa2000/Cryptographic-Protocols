{
 "cells": [
  {
   "cell_type": "code",
   "execution_count": 6,
   "metadata": {
    "collapsed": false
   },
   "outputs": [
    {
     "name": "stdout",
     "output_type": "stream",
     "text": [
      "Generator of the multiplicative group G: a\n",
      "The message to share is:  3*a^19 + a^17 + 3*a^16 + 4*a^15 + a^14 + 2*a^13 + 4*a^12 + a^11 + 3*a^10 + 3*a^9 + 4*a^8 + 2*a^7 + 4*a^6 + 2*a^5 + a^4 + 4*a^3 + 2*a^2 + 4*a + 3\n"
     ]
    }
   ],
   "source": [
    "\"\"\"The Karnin-Greene-Hellman algorithm\"\"\"\n",
    "import random\n",
    "\n",
    "# STEP 1\n",
    "# input:\n",
    "# q - user input for field generation\n",
    "# m - user input for field generation\n",
    "# n - the number of people authorized to read the message\n",
    "# k - the number of people needed to read the message\n",
    "# output:\n",
    "# M - random message to share\n",
    "# G - field\n",
    "# b - generator of the multiplicative group G\n",
    "\n",
    "q = 5\n",
    "m = 20\n",
    "n = 10\n",
    "k = 3\n",
    "G.<a> = GF(q^m)\n",
    "b = G.primitive_element()\n",
    "print(\"Generator of the multiplicative group G:\", b)\n",
    "M = G.random_element()\n",
    "print(\"The message to share is: \", M)"
   ]
  },
  {
   "cell_type": "code",
   "execution_count": 7,
   "metadata": {
    "collapsed": false
   },
   "outputs": [
    {
     "name": "stdout",
     "output_type": "stream",
     "text": [
      "Designated vector of shadows:\n",
      " (2*a^19 + a^18 + a^16 + 2*a^15 + 3*a^14 + 2*a^13 + 4*a^12 + 2*a^8 + 2*a^7 + 2*a^6 + 4*a^5 + a^4 + 2*a^3 + 2*a^2 + 1, 2*a^19 + 2*a^17 + a^16 + 4*a^14 + 4*a^13 + 4*a^11 + 2*a^10 + 3*a^9 + 3*a^7 + 3*a^6 + 3*a^5 + 2*a^4 + 2*a^3 + 4*a^2 + 2, a^19 + a^18 + 3*a^17 + 2*a^16 + 4*a^15 + 2*a^14 + 2*a^11 + 3*a^10 + a^9 + 4*a^8 + 3*a^7 + 3*a^6 + 2*a^5 + 3*a^4 + 3*a^3 + 2*a^2 + 2*a + 3, 3*a^19 + 2*a^17 + 2*a^16 + 2*a^15 + 4*a^14 + a^13 + 2*a^12 + 3*a^11 + 2*a^10 + 4*a^8 + a^7 + 4*a^6 + 2*a^5 + 2*a^4 + 2, 2*a^17 + a^16 + a^14 + a^10 + a^9 + a^8 + 3*a^7 + 2*a^6 + a^5 + a^4 + 4*a^3 + 4*a^2 + 2*a + 2, a^18 + 2*a^17 + 4*a^15 + 3*a^14 + 2*a^13 + a^12 + 4*a^11 + 4*a^10 + 4*a^9 + a^8 + 2*a^7 + 4*a^6 + 4*a^5 + 4*a^4 + a^3 + 2*a^2 + 3*a + 1, 2*a^19 + 2*a^18 + 3*a^17 + 2*a^16 + 3*a^13 + 2*a^12 + 4*a^11 + 2*a^9 + 2*a^8 + 3*a^7 + 3*a^6 + 3*a^5 + 2*a^4 + 3*a^3 + a^2 + a + 4, a^18 + 4*a^17 + 3*a^16 + 2*a^15 + 3*a^14 + 3*a^13 + a^12 + 4*a^11 + a^9 + 3*a^8 + 4*a^6 + 3*a^4 + 4*a^3 + a^2 + 4*a + 3, 3*a^19 + 2*a^18 + 2*a^16 + 4*a^15 + 3*a^14 + 3*a^12 + 3*a^10 + 3*a^9 + a^8 + 4*a^7 + 2*a^6 + a^5 + 3*a^4 + 2*a^3 + 3*a + 1, 4*a^19 + 2*a^17 + a^16 + 4*a^15 + 3*a^13 + 3*a^12 + 4*a^11 + 4*a^9 + a^8 + a^7 + 3*a^6 + 4*a^3 + a^2 + a + 1)\n",
      "\n",
      "Shadows are sent to users\n"
     ]
    }
   ],
   "source": [
    "\"\"\"Generation of shadows\"\"\"\n",
    "# STEP 2\n",
    "# input:\n",
    "# G - field\n",
    "# M - random message to share\n",
    "# n - the number of people authorized to read the message\n",
    "# k - the number of people needed to read the message\n",
    "# b - generator grupy multiplikatywnej G\n",
    "# output:\n",
    "# A - matrix for determining shadows\n",
    "# B - matrix for determining shadows\n",
    "# S - vector shadows\n",
    "\n",
    "B = zero_vector(G,k)\n",
    "B[0] = M\n",
    "for i in range(1, k):\n",
    "    B[i] = G.random_element()\n",
    "A = zero_matrix(G, n, k)\n",
    "\n",
    "def fillA(A,k,n):\n",
    "    for i in range(1,k):\n",
    "        for j in range(0,n-1):\n",
    "            A[j,i] = ((b^(j+1))^i)\n",
    "            A[j,0] = 1\n",
    "    A[n-1,k-1] = 1\n",
    "    return A\n",
    "\n",
    "A = fillA(A, k, n)\n",
    "S = zero_vector(G, n)\n",
    "S = A * B\n",
    "print(\"Designated vector of shadows:\\n\", S)\n",
    "print(\"\\nShadows are sent to users\")"
   ]
  },
  {
   "cell_type": "code",
   "execution_count": 8,
   "metadata": {
    "collapsed": false
   },
   "outputs": [
    {
     "name": "stdout",
     "output_type": "stream",
     "text": [
      "Array of randomly selected users to determine the message:\n",
      " [8, 5, 6]\n"
     ]
    }
   ],
   "source": [
    "\"\"\"Selecting the users to designate the message\"\"\"\n",
    "# STEP 3\n",
    "# input:\n",
    "# n - the number of people authorized to read the message\n",
    "# k - the number of people needed to read the message\n",
    "# output:\n",
    "# tu - array of randomly selected users to designate the message\n",
    "\n",
    "def check(tu,a):\n",
    "    for i in range(0, len(tu)):\n",
    "        if (tu[i] == a):\n",
    "            return 0\n",
    "    return 1\n",
    "\n",
    "tu = [random.randint(1, n)]\n",
    "for i in range(1, k):\n",
    "    p = random.randint(1, n)\n",
    "    while(check(tu, p) == 0):\n",
    "        p = random.randint(1, n)\n",
    "    tu.append(p)\n",
    "print(\"Array of randomly selected users to determine the message:\\n\", tu)"
   ]
  },
  {
   "cell_type": "code",
   "execution_count": 9,
   "metadata": {
    "collapsed": false
   },
   "outputs": [
    {
     "name": "stdout",
     "output_type": "stream",
     "text": [
      "Determined matrix D:\n",
      " [   1  a^8 a^16]\n",
      "[   1  a^5 a^10]\n",
      "[   1  a^6 a^12]\n"
     ]
    }
   ],
   "source": [
    "\"\"\"Matrix determination\"\"\"\n",
    "# STEP 4\n",
    "# input:\n",
    "# G - field\n",
    "# n - the number of people authorized to read the message\n",
    "# k - the number of people needed to read the message\n",
    "# tu - array of randomly selected users to designate the message\n",
    "# b - generator grupy multiplikatywnej G\n",
    "# output:\n",
    "# D - matrix\n",
    "\n",
    "D = zero_matrix(G, k, k)\n",
    "def isn(tu, n):\n",
    "    for i in range(0, len(tu)):\n",
    "        if (tu[i] == n):\n",
    "            return 1\n",
    "    return 0\n",
    "\n",
    "def fillD(D, k, n, tu):\n",
    "    if(isn(tu, n) == 1):\n",
    "        tu.sort()\n",
    "        for i in range(1, k):\n",
    "            for j in range(0, k-1):\n",
    "                D[j,i] = ((b^(tu[j]))^i)\n",
    "                D[j,0] = 1\n",
    "        D[k-1,k-1] = 1\n",
    "        return D\n",
    "    else:\n",
    "        for i in range(1, k):\n",
    "            for j in range(0, k):\n",
    "                D[j,i] = ((b^(tu[j]))^i)\n",
    "                D[j,0] = 1\n",
    "        return D\n",
    "D = fillD(D, k, n, tu)\n",
    "print(\"Determined matrix D:\\n\", D)"
   ]
  },
  {
   "cell_type": "code",
   "execution_count": 10,
   "metadata": {
    "collapsed": false
   },
   "outputs": [
    {
     "name": "stdout",
     "output_type": "stream",
     "text": [
      "Designated message:  3*a^19 + a^17 + 3*a^16 + 4*a^15 + a^14 + 2*a^13 + 4*a^12 + a^11 + 3*a^10 + 3*a^9 + 4*a^8 + 2*a^7 + 4*a^6 + 2*a^5 + a^4 + 4*a^3 + 2*a^2 + 4*a + 3\n",
      "\n",
      "Designated message and start message are equal\n"
     ]
    }
   ],
   "source": [
    "\"\"\"The appointment of a secret\"\"\"\n",
    "# STEP 5\n",
    "# input:\n",
    "# G - field\n",
    "# D - matrix\n",
    "# k - the number of people needed to read the message\n",
    "# tu - array of randomly selected users to designate the message\n",
    "# S - vector of shadows\n",
    "# output:\n",
    "# Dinv - the inverse of the matrix D\n",
    "# Sk - vector of shadows from drawn users\n",
    "# X - vector of a secret\n",
    "\n",
    "Dinv = D.inverse()\n",
    "Sk = zero_vector(G, k)\n",
    "def fillSk(Sk, k, S, tu):\n",
    "    for i in range(0, k):\n",
    "        Sk[i] = S[tu[i]-1]\n",
    "    return Sk\n",
    "\n",
    "Sk = fillSk(Sk, k, S, tu)\n",
    "X = zero_vector(G, k)\n",
    "X = Dinv * Sk\n",
    "print(\"Designated message: \", X[0])\n",
    "\n",
    "if(X[0] == M):\n",
    "    print(\"\\nDesignated message and start message are equal\")\n",
    "else:\n",
    "    print(\"\\nDesignated message and start message are not equal!!!!!!\")"
   ]
  }
 ],
 "metadata": {
  "kernelspec": {
   "display_name": "SageMath 9.6",
   "language": "sagemath",
   "metadata": {
    "cocalc": {
     "description": "Open-source mathematical software system",
     "priority": 10,
     "url": "https://www.sagemath.org/"
    }
   },
   "name": "sage-9.6",
   "resource_dir": "/ext/jupyter/kernels/sage-9.6"
  },
  "language_info": {
   "codemirror_mode": {
    "name": "ipython",
    "version": 3
   },
   "file_extension": ".py",
   "mimetype": "text/x-python",
   "name": "python",
   "nbconvert_exporter": "python",
   "pygments_lexer": "ipython3",
   "version": "3.10.3"
  }
 },
 "nbformat": 4,
 "nbformat_minor": 4
}