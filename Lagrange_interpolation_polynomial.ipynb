{
 "cells": [
  {
   "cell_type": "code",
   "execution_count": 17,
   "metadata": {
    "collapsed": false
   },
   "outputs": [
    {
     "name": "stdout",
     "output_type": "stream",
     "text": [
      "Order of the field:  1152921504606847009\n",
      "The message to share is:  601116466698955423\n"
     ]
    }
   ],
   "source": [
    "\"\"\"Algorithm with Lagrange interpolation polynomial\"\"\"\n",
    "import random\n",
    "\n",
    "# STEP 1\n",
    "# input:\n",
    "# n - the number of people authorized to read the message\n",
    "# k - the number of people needed to read the message\n",
    "# output:\n",
    "# M - random message to share\n",
    "# p - prime number - order of the field\n",
    "# F - field with order p\n",
    "\n",
    "p = next_prime(2^60)\n",
    "print(\"Order of the field: \", p)\n",
    "M = random.randint(2, p-2)\n",
    "print(\"The message to share is: \", M)\n",
    "n = 10\n",
    "k = 7\n",
    "F=GF(p)"
   ]
  },
  {
   "cell_type": "code",
   "execution_count": 18,
   "metadata": {
    "collapsed": false
   },
   "outputs": [
    {
     "name": "stdout",
     "output_type": "stream",
     "text": [
      "Degree polynomial 6 :  1105782211425681930*x^6 + 195667776229394019*x^5 + 592713685636138448*x^4 + 508618734972335057*x^3 + 152917538953978316*x^2 + 1026616210192742217*x + 601116466698955423\n"
     ]
    }
   ],
   "source": [
    "\"\"\"Generation of a polynomial\"\"\"\n",
    "# STEP 2\n",
    "# input:\n",
    "# k - the number of people needed to read the message\n",
    "# F - field with order p\n",
    "# output:\n",
    "# f - polynomial over the field F with degree k-1 and random coefficients\n",
    "\n",
    "Pr.<x>=F[]\n",
    "f = Pr(M)\n",
    "for i in range(1,k):\n",
    "    f = f + F.random_element() * x^i\n",
    "print(\"Degree polynomial\", k-1 ,\": \", f)"
   ]
  },
  {
   "cell_type": "code",
   "execution_count": 19,
   "metadata": {
    "collapsed": false
   },
   "outputs": [
    {
     "name": "stdout",
     "output_type": "stream",
     "text": [
      "Determined values of the polynomial in points <1-n>: \n",
      " [724668110288684383, 463176390286893144, 430878405444208150, 419323688284090007, 284540875302712049, 328636920328545285, 22907346434802718, 837065059438978081, 492451172314161891, 544736428042227992]\n",
      "\n",
      "Sending out to users their shadows and the prime number p\n"
     ]
    }
   ],
   "source": [
    "\"\"\"The appointment of shadows\"\"\"\n",
    "# STEP 3\n",
    "# input:\n",
    "# n - the number of people authorized to read the message\n",
    "# f - polynomial over the field F with degree k-1 and random coefficients\n",
    "# output:\n",
    "# t - an array of determined polynomial values at points <1-n>\n",
    "\n",
    "t = []\n",
    "for i in range(1,n+1):\n",
    "    t.append(f(i))\n",
    "print(\"Determined values of the polynomial in points <1-n>: \\n\", t)\n",
    "print(\"\\nSending out to users their shadows and the prime number p\")"
   ]
  },
  {
   "cell_type": "code",
   "execution_count": 20,
   "metadata": {
    "collapsed": false
   },
   "outputs": [
    {
     "name": "stdout",
     "output_type": "stream",
     "text": [
      "Array of randomly selected users to determine the message:\n",
      " [2, 3, 4, 1, 5, 7, 6]\n"
     ]
    }
   ],
   "source": [
    "\"\"\"Selecting users to designate a message\"\"\"\n",
    "# STEP 4\n",
    "# input:\n",
    "# n - the number of people authorized to read the message\n",
    "# k - the number of people needed to read the message\n",
    "# output:\n",
    "# tu - Array of randomly selected users to designate the message\n",
    "\n",
    "def check(tu,a):\n",
    "    for i in range(0,len(tu)):\n",
    "        if (tu[i] == a):\n",
    "            return 0\n",
    "    return 1\n",
    "\n",
    "tu = [random.randint(1, n)]\n",
    "for i in range(1,k):\n",
    "    p = random.randint(1, n)\n",
    "    while(check(tu, p) == 0):\n",
    "        p = random.randint(1, n)\n",
    "    tu.append(p)\n",
    "print(\"Array of randomly selected users to determine the message:\\n\", tu)"
   ]
  },
  {
   "cell_type": "code",
   "execution_count": 21,
   "metadata": {
    "collapsed": false
   },
   "outputs": [
    {
     "name": "stdout",
     "output_type": "stream",
     "text": [
      "Matrix over the field F with coefficients of the left side of the solved congruence:\n",
      " [    64     32     16      8      4      2      1]\n",
      "[   729    243     81     27      9      3      1]\n",
      "[  4096   1024    256     64     16      4      1]\n",
      "[     1      1      1      1      1      1      1]\n",
      "[ 15625   3125    625    125     25      5      1]\n",
      "[117649  16807   2401    343     49      7      1]\n",
      "[ 46656   7776   1296    216     36      6      1]\n",
      "Vector of shadows of the drawn users:\n",
      " (463176390286893144, 430878405444208150, 419323688284090007, 724668110288684383, 284540875302712049, 22907346434802718, 328636920328545285)\n",
      "Designated message:  601116466698955423\n",
      "\n",
      "Designated message and start message are equal\n"
     ]
    }
   ],
   "source": [
    "\"\"\"The randomly selected users determine the message\"\"\"\n",
    "# STEP 5\n",
    "# input:\n",
    "# n - the number of people authorized to read the message\n",
    "# k - the number of people needed to read the message\n",
    "# tu - Array of randomly selected users to designate the message\n",
    "# t - an array of determined polynomial values at points <1-n>\n",
    "# F - field with order p\n",
    "# output\n",
    "# A - matrix over the field F with coefficients of the left side of the solved congruence\n",
    "# Ainv - inverse of matrix A\n",
    "# X - vector of coefficients of the polynomial being searched\n",
    "# B - vector of shadows from drawn users\n",
    "\n",
    "A = zero_matrix(F, k, k)\n",
    "def fillA(A,k,tu):\n",
    "    for i in range(0, k):\n",
    "        for j in range(0,  k-1):\n",
    "            A[i,j] = tu[i]^(k-1-j)\n",
    "        A[i,k-1] = 1\n",
    "    return A\n",
    "\n",
    "A = fillA(A, k, tu)\n",
    "print(\"Matrix over the field F with coefficients of the left side of the solved congruence:\\n\", A)\n",
    "X = zero_vector(F,k)\n",
    "B = zero_vector(F,k)\n",
    "\n",
    "def fillB(B,k,t,tu):\n",
    "    for i in range(0,k):\n",
    "        B[i] = t[tu[i]-1]\n",
    "    return B\n",
    "\n",
    "B = fillB(B,k,t,tu)\n",
    "print(\"Vector of shadows of the drawn users:\\n\", B)\n",
    "Ainv=A.inverse()\n",
    "X = Ainv * B\n",
    "print(\"Designated message: \", X[k-1])\n",
    "if(X[k-1] == M):\n",
    "    print(\"\\nDesignated message and start message are equal\")\n",
    "else:\n",
    "    print(\"\\nDesignated message and start message are not equal!!!!!!\")"
   ]
  },
  {
   "cell_type": "code",
   "execution_count": 0,
   "metadata": {
    "collapsed": false
   },
   "outputs": [
   ],
   "source": [
   ]
  }
 ],
 "metadata": {
  "kernelspec": {
   "display_name": "SageMath 9.6",
   "language": "sagemath",
   "metadata": {
    "cocalc": {
     "description": "Open-source mathematical software system",
     "priority": 10,
     "url": "https://www.sagemath.org/"
    }
   },
   "name": "sage-9.6",
   "resource_dir": "/ext/jupyter/kernels/sage-9.6"
  },
  "language_info": {
   "codemirror_mode": {
    "name": "ipython",
    "version": 3
   },
   "file_extension": ".py",
   "mimetype": "text/x-python",
   "name": "python",
   "nbconvert_exporter": "python",
   "pygments_lexer": "ipython3",
   "version": "3.10.3"
  }
 },
 "nbformat": 4,
 "nbformat_minor": 4
}